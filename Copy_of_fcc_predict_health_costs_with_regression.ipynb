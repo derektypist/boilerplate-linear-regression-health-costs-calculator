{
  "nbformat": 4,
  "nbformat_minor": 0,
  "metadata": {
    "colab": {
      "name": "Copy of fcc_predict_health_costs_with_regression.ipynb",
      "provenance": [],
      "collapsed_sections": [],
      "toc_visible": true,
      "include_colab_link": true
    },
    "kernelspec": {
      "display_name": "Python 3",
      "name": "python3"
    }
  },
  "cells": [
    {
      "cell_type": "markdown",
      "metadata": {
        "id": "view-in-github",
        "colab_type": "text"
      },
      "source": [
        "<a href=\"https://colab.research.google.com/github/derektypist/boilerplate-linear-regression-health-costs-calculator/blob/master/Copy_of_fcc_predict_health_costs_with_regression.ipynb\" target=\"_parent\"><img src=\"https://colab.research.google.com/assets/colab-badge.svg\" alt=\"Open In Colab\"/></a>"
      ]
    },
    {
      "cell_type": "markdown",
      "metadata": {
        "id": "M9TX15KOkPBV"
      },
      "source": [
        "*Note: You are currently reading this using Google Colaboratory which is a cloud-hosted version of Jupyter Notebook. This is a document containing both text cells for documentation and runnable code cells. If you are unfamiliar with Jupyter Notebook, watch this 3-minute introduction before starting this challenge: https://www.youtube.com/watch?v=inN8seMm7UI*\n",
        "\n",
        "---\n",
        "\n",
        "In this challenge, you will predict healthcare costs using a regression algorithm.\n",
        "\n",
        "You are given a dataset that contains information about different people including their healthcare costs. Use the data to predict healthcare costs based on new data.\n",
        "\n",
        "The first two cells of this notebook import libraries and the data.\n",
        "\n",
        "Make sure to convert categorical data to numbers. Use 80% of the data as the `train_dataset` and 20% of the data as the `test_dataset`.\n",
        "\n",
        "`pop` off the \"expenses\" column from these datasets to create new datasets called `train_labels` and `test_labels`. Use these labels when training your model.\n",
        "\n",
        "Create a model and train it with the `train_dataset`. Run the final cell in this notebook to check your model. The final cell will use the unseen `test_dataset` to check how well the model generalizes.\n",
        "\n",
        "To pass the challenge, `model.evaluate` must return a Mean Absolute Error of under 3500. This means it predicts health care costs correctly within $3500.\n",
        "\n",
        "The final cell will also predict expenses using the `test_dataset` and graph the results."
      ]
    },
    {
      "cell_type": "code",
      "metadata": {
        "id": "1rRo8oNqZ-Rj",
        "colab": {
          "base_uri": "https://localhost:8080/"
        },
        "outputId": "3c9cd6a2-ef00-49a3-d126-a9d7d00729ba"
      },
      "source": [
        "# Import libraries. You may or may not use all of these.\n",
        "!pip install -q git+https://github.com/tensorflow/docs\n",
        "import matplotlib.pyplot as plt\n",
        "import numpy as np\n",
        "import pandas as pd\n",
        "\n",
        "try:\n",
        "  # %tensorflow_version only exists in Colab.\n",
        "  %tensorflow_version 2.x\n",
        "except Exception:\n",
        "  pass\n",
        "import tensorflow as tf\n",
        "\n",
        "from tensorflow import keras\n",
        "from tensorflow.keras import layers\n",
        "\n",
        "import tensorflow_docs as tfdocs\n",
        "import tensorflow_docs.plots\n",
        "import tensorflow_docs.modeling"
      ],
      "execution_count": 1,
      "outputs": [
        {
          "output_type": "stream",
          "text": [
            "\u001b[?25l\r\u001b[K     |▎                               | 10kB 20.5MB/s eta 0:00:01\r\u001b[K     |▋                               | 20kB 28.8MB/s eta 0:00:01\r\u001b[K     |█                               | 30kB 34.2MB/s eta 0:00:01\r\u001b[K     |█▎                              | 40kB 25.7MB/s eta 0:00:01\r\u001b[K     |█▋                              | 51kB 14.1MB/s eta 0:00:01\r\u001b[K     |██                              | 61kB 11.0MB/s eta 0:00:01\r\u001b[K     |██▎                             | 71kB 11.9MB/s eta 0:00:01\r\u001b[K     |██▋                             | 81kB 13.1MB/s eta 0:00:01\r\u001b[K     |███                             | 92kB 14.4MB/s eta 0:00:01\r\u001b[K     |███▏                            | 102kB 15.6MB/s eta 0:00:01\r\u001b[K     |███▌                            | 112kB 15.6MB/s eta 0:00:01\r\u001b[K     |███▉                            | 122kB 15.6MB/s eta 0:00:01\r\u001b[K     |████▏                           | 133kB 15.6MB/s eta 0:00:01\r\u001b[K     |████▌                           | 143kB 15.6MB/s eta 0:00:01\r\u001b[K     |████▉                           | 153kB 15.6MB/s eta 0:00:01\r\u001b[K     |█████▏                          | 163kB 15.6MB/s eta 0:00:01\r\u001b[K     |█████▌                          | 174kB 15.6MB/s eta 0:00:01\r\u001b[K     |█████▉                          | 184kB 15.6MB/s eta 0:00:01\r\u001b[K     |██████                          | 194kB 15.6MB/s eta 0:00:01\r\u001b[K     |██████▍                         | 204kB 15.6MB/s eta 0:00:01\r\u001b[K     |██████▊                         | 215kB 15.6MB/s eta 0:00:01\r\u001b[K     |███████                         | 225kB 15.6MB/s eta 0:00:01\r\u001b[K     |███████▍                        | 235kB 15.6MB/s eta 0:00:01\r\u001b[K     |███████▊                        | 245kB 15.6MB/s eta 0:00:01\r\u001b[K     |████████                        | 256kB 15.6MB/s eta 0:00:01\r\u001b[K     |████████▍                       | 266kB 15.6MB/s eta 0:00:01\r\u001b[K     |████████▊                       | 276kB 15.6MB/s eta 0:00:01\r\u001b[K     |█████████                       | 286kB 15.6MB/s eta 0:00:01\r\u001b[K     |█████████▎                      | 296kB 15.6MB/s eta 0:00:01\r\u001b[K     |█████████▋                      | 307kB 15.6MB/s eta 0:00:01\r\u001b[K     |██████████                      | 317kB 15.6MB/s eta 0:00:01\r\u001b[K     |██████████▎                     | 327kB 15.6MB/s eta 0:00:01\r\u001b[K     |██████████▋                     | 337kB 15.6MB/s eta 0:00:01\r\u001b[K     |███████████                     | 348kB 15.6MB/s eta 0:00:01\r\u001b[K     |███████████▎                    | 358kB 15.6MB/s eta 0:00:01\r\u001b[K     |███████████▋                    | 368kB 15.6MB/s eta 0:00:01\r\u001b[K     |████████████                    | 378kB 15.6MB/s eta 0:00:01\r\u001b[K     |████████████▏                   | 389kB 15.6MB/s eta 0:00:01\r\u001b[K     |████████████▌                   | 399kB 15.6MB/s eta 0:00:01\r\u001b[K     |████████████▉                   | 409kB 15.6MB/s eta 0:00:01\r\u001b[K     |█████████████▏                  | 419kB 15.6MB/s eta 0:00:01\r\u001b[K     |█████████████▌                  | 430kB 15.6MB/s eta 0:00:01\r\u001b[K     |█████████████▉                  | 440kB 15.6MB/s eta 0:00:01\r\u001b[K     |██████████████▏                 | 450kB 15.6MB/s eta 0:00:01\r\u001b[K     |██████████████▌                 | 460kB 15.6MB/s eta 0:00:01\r\u001b[K     |██████████████▉                 | 471kB 15.6MB/s eta 0:00:01\r\u001b[K     |███████████████                 | 481kB 15.6MB/s eta 0:00:01\r\u001b[K     |███████████████▍                | 491kB 15.6MB/s eta 0:00:01\r\u001b[K     |███████████████▊                | 501kB 15.6MB/s eta 0:00:01\r\u001b[K     |████████████████                | 512kB 15.6MB/s eta 0:00:01\r\u001b[K     |████████████████▍               | 522kB 15.6MB/s eta 0:00:01\r\u001b[K     |████████████████▊               | 532kB 15.6MB/s eta 0:00:01\r\u001b[K     |█████████████████               | 542kB 15.6MB/s eta 0:00:01\r\u001b[K     |█████████████████▍              | 552kB 15.6MB/s eta 0:00:01\r\u001b[K     |█████████████████▊              | 563kB 15.6MB/s eta 0:00:01\r\u001b[K     |██████████████████              | 573kB 15.6MB/s eta 0:00:01\r\u001b[K     |██████████████████▎             | 583kB 15.6MB/s eta 0:00:01\r\u001b[K     |██████████████████▋             | 593kB 15.6MB/s eta 0:00:01\r\u001b[K     |███████████████████             | 604kB 15.6MB/s eta 0:00:01\r\u001b[K     |███████████████████▎            | 614kB 15.6MB/s eta 0:00:01\r\u001b[K     |███████████████████▋            | 624kB 15.6MB/s eta 0:00:01\r\u001b[K     |████████████████████            | 634kB 15.6MB/s eta 0:00:01\r\u001b[K     |████████████████████▎           | 645kB 15.6MB/s eta 0:00:01\r\u001b[K     |████████████████████▋           | 655kB 15.6MB/s eta 0:00:01\r\u001b[K     |█████████████████████           | 665kB 15.6MB/s eta 0:00:01\r\u001b[K     |█████████████████████▏          | 675kB 15.6MB/s eta 0:00:01\r\u001b[K     |█████████████████████▌          | 686kB 15.6MB/s eta 0:00:01\r\u001b[K     |█████████████████████▉          | 696kB 15.6MB/s eta 0:00:01\r\u001b[K     |██████████████████████▏         | 706kB 15.6MB/s eta 0:00:01\r\u001b[K     |██████████████████████▌         | 716kB 15.6MB/s eta 0:00:01\r\u001b[K     |██████████████████████▉         | 727kB 15.6MB/s eta 0:00:01\r\u001b[K     |███████████████████████▏        | 737kB 15.6MB/s eta 0:00:01\r\u001b[K     |███████████████████████▌        | 747kB 15.6MB/s eta 0:00:01\r\u001b[K     |███████████████████████▉        | 757kB 15.6MB/s eta 0:00:01\r\u001b[K     |████████████████████████        | 768kB 15.6MB/s eta 0:00:01\r\u001b[K     |████████████████████████▍       | 778kB 15.6MB/s eta 0:00:01\r\u001b[K     |████████████████████████▊       | 788kB 15.6MB/s eta 0:00:01\r\u001b[K     |█████████████████████████       | 798kB 15.6MB/s eta 0:00:01\r\u001b[K     |█████████████████████████▍      | 808kB 15.6MB/s eta 0:00:01\r\u001b[K     |█████████████████████████▊      | 819kB 15.6MB/s eta 0:00:01\r\u001b[K     |██████████████████████████      | 829kB 15.6MB/s eta 0:00:01\r\u001b[K     |██████████████████████████▍     | 839kB 15.6MB/s eta 0:00:01\r\u001b[K     |██████████████████████████▊     | 849kB 15.6MB/s eta 0:00:01\r\u001b[K     |███████████████████████████     | 860kB 15.6MB/s eta 0:00:01\r\u001b[K     |███████████████████████████▎    | 870kB 15.6MB/s eta 0:00:01\r\u001b[K     |███████████████████████████▋    | 880kB 15.6MB/s eta 0:00:01\r\u001b[K     |████████████████████████████    | 890kB 15.6MB/s eta 0:00:01\r\u001b[K     |████████████████████████████▎   | 901kB 15.6MB/s eta 0:00:01\r\u001b[K     |████████████████████████████▋   | 911kB 15.6MB/s eta 0:00:01\r\u001b[K     |█████████████████████████████   | 921kB 15.6MB/s eta 0:00:01\r\u001b[K     |█████████████████████████████▎  | 931kB 15.6MB/s eta 0:00:01\r\u001b[K     |█████████████████████████████▋  | 942kB 15.6MB/s eta 0:00:01\r\u001b[K     |█████████████████████████████▉  | 952kB 15.6MB/s eta 0:00:01\r\u001b[K     |██████████████████████████████▏ | 962kB 15.6MB/s eta 0:00:01\r\u001b[K     |██████████████████████████████▌ | 972kB 15.6MB/s eta 0:00:01\r\u001b[K     |██████████████████████████████▉ | 983kB 15.6MB/s eta 0:00:01\r\u001b[K     |███████████████████████████████▏| 993kB 15.6MB/s eta 0:00:01\r\u001b[K     |███████████████████████████████▌| 1.0MB 15.6MB/s eta 0:00:01\r\u001b[K     |███████████████████████████████▉| 1.0MB 15.6MB/s eta 0:00:01\r\u001b[K     |████████████████████████████████| 1.0MB 15.6MB/s \n",
            "\u001b[?25h  Building wheel for tensorflow-docs (setup.py) ... \u001b[?25l\u001b[?25hdone\n"
          ],
          "name": "stdout"
        }
      ]
    },
    {
      "cell_type": "code",
      "metadata": {
        "id": "CiX2FI4gZtTt",
        "colab": {
          "base_uri": "https://localhost:8080/",
          "height": 383
        },
        "outputId": "8e105aeb-ec56-4158-afa7-99280490c986"
      },
      "source": [
        "# Import data\n",
        "!wget https://cdn.freecodecamp.org/project-data/health-costs/insurance.csv\n",
        "dataset = pd.read_csv('insurance.csv')\n",
        "dataset.tail()"
      ],
      "execution_count": 2,
      "outputs": [
        {
          "output_type": "stream",
          "text": [
            "--2021-06-11 08:49:31--  https://cdn.freecodecamp.org/project-data/health-costs/insurance.csv\n",
            "Resolving cdn.freecodecamp.org (cdn.freecodecamp.org)... 104.26.2.33, 104.26.3.33, 172.67.70.149, ...\n",
            "Connecting to cdn.freecodecamp.org (cdn.freecodecamp.org)|104.26.2.33|:443... connected.\n",
            "HTTP request sent, awaiting response... 200 OK\n",
            "Length: 50264 (49K) [text/csv]\n",
            "Saving to: ‘insurance.csv’\n",
            "\n",
            "insurance.csv       100%[===================>]  49.09K  --.-KB/s    in 0.01s   \n",
            "\n",
            "2021-06-11 08:49:31 (4.94 MB/s) - ‘insurance.csv’ saved [50264/50264]\n",
            "\n"
          ],
          "name": "stdout"
        },
        {
          "output_type": "execute_result",
          "data": {
            "text/html": [
              "<div>\n",
              "<style scoped>\n",
              "    .dataframe tbody tr th:only-of-type {\n",
              "        vertical-align: middle;\n",
              "    }\n",
              "\n",
              "    .dataframe tbody tr th {\n",
              "        vertical-align: top;\n",
              "    }\n",
              "\n",
              "    .dataframe thead th {\n",
              "        text-align: right;\n",
              "    }\n",
              "</style>\n",
              "<table border=\"1\" class=\"dataframe\">\n",
              "  <thead>\n",
              "    <tr style=\"text-align: right;\">\n",
              "      <th></th>\n",
              "      <th>age</th>\n",
              "      <th>sex</th>\n",
              "      <th>bmi</th>\n",
              "      <th>children</th>\n",
              "      <th>smoker</th>\n",
              "      <th>region</th>\n",
              "      <th>expenses</th>\n",
              "    </tr>\n",
              "  </thead>\n",
              "  <tbody>\n",
              "    <tr>\n",
              "      <th>1333</th>\n",
              "      <td>50</td>\n",
              "      <td>male</td>\n",
              "      <td>31.0</td>\n",
              "      <td>3</td>\n",
              "      <td>no</td>\n",
              "      <td>northwest</td>\n",
              "      <td>10600.55</td>\n",
              "    </tr>\n",
              "    <tr>\n",
              "      <th>1334</th>\n",
              "      <td>18</td>\n",
              "      <td>female</td>\n",
              "      <td>31.9</td>\n",
              "      <td>0</td>\n",
              "      <td>no</td>\n",
              "      <td>northeast</td>\n",
              "      <td>2205.98</td>\n",
              "    </tr>\n",
              "    <tr>\n",
              "      <th>1335</th>\n",
              "      <td>18</td>\n",
              "      <td>female</td>\n",
              "      <td>36.9</td>\n",
              "      <td>0</td>\n",
              "      <td>no</td>\n",
              "      <td>southeast</td>\n",
              "      <td>1629.83</td>\n",
              "    </tr>\n",
              "    <tr>\n",
              "      <th>1336</th>\n",
              "      <td>21</td>\n",
              "      <td>female</td>\n",
              "      <td>25.8</td>\n",
              "      <td>0</td>\n",
              "      <td>no</td>\n",
              "      <td>southwest</td>\n",
              "      <td>2007.95</td>\n",
              "    </tr>\n",
              "    <tr>\n",
              "      <th>1337</th>\n",
              "      <td>61</td>\n",
              "      <td>female</td>\n",
              "      <td>29.1</td>\n",
              "      <td>0</td>\n",
              "      <td>yes</td>\n",
              "      <td>northwest</td>\n",
              "      <td>29141.36</td>\n",
              "    </tr>\n",
              "  </tbody>\n",
              "</table>\n",
              "</div>"
            ],
            "text/plain": [
              "      age     sex   bmi  children smoker     region  expenses\n",
              "1333   50    male  31.0         3     no  northwest  10600.55\n",
              "1334   18  female  31.9         0     no  northeast   2205.98\n",
              "1335   18  female  36.9         0     no  southeast   1629.83\n",
              "1336   21  female  25.8         0     no  southwest   2007.95\n",
              "1337   61  female  29.1         0    yes  northwest  29141.36"
            ]
          },
          "metadata": {
            "tags": []
          },
          "execution_count": 2
        }
      ]
    },
    {
      "cell_type": "code",
      "metadata": {
        "id": "LcopvQh3X-kX"
      },
      "source": [
        "# Convert Categorical Data to Numbers\n",
        "dataset['sex'] = dataset['sex'].astype('category').cat.codes\n",
        "dataset['smoker'] = dataset['smoker'].astype('category').cat.codes\n",
        "dataset['region'] = dataset['region'].astype('category').cat.codes"
      ],
      "execution_count": 3,
      "outputs": []
    },
    {
      "cell_type": "code",
      "metadata": {
        "id": "vb3Qkt5qRw6u"
      },
      "source": [
        "# Split data into train and test dataset\n",
        "train_dataset = dataset.sample(frac=0.8)\n",
        "test_dataset = dataset.drop(train_dataset.index)"
      ],
      "execution_count": 4,
      "outputs": []
    },
    {
      "cell_type": "code",
      "metadata": {
        "id": "LTVUEDxxSTDu"
      },
      "source": [
        "# Separate train & test labels from train & test datasets\n",
        "train_labels = train_dataset.pop('expenses')\n",
        "test_labels = test_dataset.pop('expenses')"
      ],
      "execution_count": 5,
      "outputs": []
    },
    {
      "cell_type": "code",
      "metadata": {
        "colab": {
          "base_uri": "https://localhost:8080/"
        },
        "id": "qIQnMRSCSzRX",
        "outputId": "a4f4a393-a057-4e68-f7b9-0a752ce2f25f"
      },
      "source": [
        "# Build Model\n",
        "normalizer = layers.experimental.preprocessing.Normalization()\n",
        "normalizer.adapt(np.array(train_dataset))\n",
        "model = tf.keras.Sequential([\n",
        "  normalizer,\n",
        "  layers.Dense(units=6,activation='relu'),\n",
        "  layers.Dense(units=6,activation='relu'),\n",
        "  layers.Dense(units=1)                  \n",
        "])\n",
        "\n",
        "# Show Summary\n",
        "model.summary()"
      ],
      "execution_count": 6,
      "outputs": [
        {
          "output_type": "stream",
          "text": [
            "Model: \"sequential\"\n",
            "_________________________________________________________________\n",
            "Layer (type)                 Output Shape              Param #   \n",
            "=================================================================\n",
            "normalization (Normalization (None, 6)                 13        \n",
            "_________________________________________________________________\n",
            "dense (Dense)                (None, 6)                 42        \n",
            "_________________________________________________________________\n",
            "dense_1 (Dense)              (None, 6)                 42        \n",
            "_________________________________________________________________\n",
            "dense_2 (Dense)              (None, 1)                 7         \n",
            "=================================================================\n",
            "Total params: 104\n",
            "Trainable params: 91\n",
            "Non-trainable params: 13\n",
            "_________________________________________________________________\n"
          ],
          "name": "stdout"
        }
      ]
    },
    {
      "cell_type": "code",
      "metadata": {
        "colab": {
          "base_uri": "https://localhost:8080/",
          "height": 201
        },
        "id": "QoClULVPT6LO",
        "outputId": "06fa4939-f880-4fb1-dfec-945914b2d6b2"
      },
      "source": [
        "# Compile and Fit Model\n",
        "model.compile(\n",
        "    optimizer=tf.optimizers.Adam(learning_rate=0.1),\n",
        "    loss='mean_absolute_error',\n",
        "    metrics=['mae','mse']\n",
        ")\n",
        "\n",
        "history = model.fit(train_dataset,train_labels,epochs=100,verbose=0,validation_split=0.2)\n",
        "\n",
        "# Show History\n",
        "hist = pd.DataFrame(history.history)\n",
        "hist['epoch'] = history.epoch\n",
        "hist.tail()"
      ],
      "execution_count": 8,
      "outputs": [
        {
          "output_type": "execute_result",
          "data": {
            "text/html": [
              "<div>\n",
              "<style scoped>\n",
              "    .dataframe tbody tr th:only-of-type {\n",
              "        vertical-align: middle;\n",
              "    }\n",
              "\n",
              "    .dataframe tbody tr th {\n",
              "        vertical-align: top;\n",
              "    }\n",
              "\n",
              "    .dataframe thead th {\n",
              "        text-align: right;\n",
              "    }\n",
              "</style>\n",
              "<table border=\"1\" class=\"dataframe\">\n",
              "  <thead>\n",
              "    <tr style=\"text-align: right;\">\n",
              "      <th></th>\n",
              "      <th>loss</th>\n",
              "      <th>mae</th>\n",
              "      <th>mse</th>\n",
              "      <th>val_loss</th>\n",
              "      <th>val_mae</th>\n",
              "      <th>val_mse</th>\n",
              "      <th>epoch</th>\n",
              "    </tr>\n",
              "  </thead>\n",
              "  <tbody>\n",
              "    <tr>\n",
              "      <th>95</th>\n",
              "      <td>1885.641479</td>\n",
              "      <td>1885.641479</td>\n",
              "      <td>22644356.0</td>\n",
              "      <td>2667.708008</td>\n",
              "      <td>2667.708008</td>\n",
              "      <td>37204048.0</td>\n",
              "      <td>95</td>\n",
              "    </tr>\n",
              "    <tr>\n",
              "      <th>96</th>\n",
              "      <td>1901.359863</td>\n",
              "      <td>1901.359863</td>\n",
              "      <td>22819816.0</td>\n",
              "      <td>2566.990479</td>\n",
              "      <td>2566.990479</td>\n",
              "      <td>36425836.0</td>\n",
              "      <td>96</td>\n",
              "    </tr>\n",
              "    <tr>\n",
              "      <th>97</th>\n",
              "      <td>1903.676270</td>\n",
              "      <td>1903.676270</td>\n",
              "      <td>22853598.0</td>\n",
              "      <td>2639.047363</td>\n",
              "      <td>2639.047363</td>\n",
              "      <td>37037700.0</td>\n",
              "      <td>97</td>\n",
              "    </tr>\n",
              "    <tr>\n",
              "      <th>98</th>\n",
              "      <td>1900.297729</td>\n",
              "      <td>1900.297729</td>\n",
              "      <td>22898094.0</td>\n",
              "      <td>2667.621826</td>\n",
              "      <td>2667.621826</td>\n",
              "      <td>37447076.0</td>\n",
              "      <td>98</td>\n",
              "    </tr>\n",
              "    <tr>\n",
              "      <th>99</th>\n",
              "      <td>1937.717896</td>\n",
              "      <td>1937.717896</td>\n",
              "      <td>22938098.0</td>\n",
              "      <td>2644.822998</td>\n",
              "      <td>2644.822998</td>\n",
              "      <td>37275300.0</td>\n",
              "      <td>99</td>\n",
              "    </tr>\n",
              "  </tbody>\n",
              "</table>\n",
              "</div>"
            ],
            "text/plain": [
              "           loss          mae         mse  ...      val_mae     val_mse  epoch\n",
              "95  1885.641479  1885.641479  22644356.0  ...  2667.708008  37204048.0     95\n",
              "96  1901.359863  1901.359863  22819816.0  ...  2566.990479  36425836.0     96\n",
              "97  1903.676270  1903.676270  22853598.0  ...  2639.047363  37037700.0     97\n",
              "98  1900.297729  1900.297729  22898094.0  ...  2667.621826  37447076.0     98\n",
              "99  1937.717896  1937.717896  22938098.0  ...  2644.822998  37275300.0     99\n",
              "\n",
              "[5 rows x 7 columns]"
            ]
          },
          "metadata": {
            "tags": []
          },
          "execution_count": 8
        }
      ]
    },
    {
      "cell_type": "code",
      "metadata": {
        "id": "Xe7RXH3N3CWU",
        "colab": {
          "base_uri": "https://localhost:8080/",
          "height": 332
        },
        "outputId": "030bcb5d-1509-46d2-f52b-bbec6b2b9902"
      },
      "source": [
        "# RUN THIS CELL TO TEST YOUR MODEL. DO NOT MODIFY CONTENTS.\n",
        "# Test model by checking how well the model generalizes using the test set.\n",
        "loss, mae, mse = model.evaluate(test_dataset, test_labels, verbose=2)\n",
        "\n",
        "print(\"Testing set Mean Abs Error: {:5.2f} expenses\".format(mae))\n",
        "\n",
        "if mae < 3500:\n",
        "  print(\"You passed the challenge. Great job!\")\n",
        "else:\n",
        "  print(\"The Mean Abs Error must be less than 3500. Keep trying.\")\n",
        "\n",
        "# Plot predictions.\n",
        "test_predictions = model.predict(test_dataset).flatten()\n",
        "\n",
        "a = plt.axes(aspect='equal')\n",
        "plt.scatter(test_labels, test_predictions)\n",
        "plt.xlabel('True values (expenses)')\n",
        "plt.ylabel('Predictions (expenses)')\n",
        "lims = [0, 50000]\n",
        "plt.xlim(lims)\n",
        "plt.ylim(lims)\n",
        "_ = plt.plot(lims,lims)\n"
      ],
      "execution_count": 9,
      "outputs": [
        {
          "output_type": "stream",
          "text": [
            "9/9 - 0s - loss: 1979.8781 - mae: 1979.8781 - mse: 22499854.0000\n",
            "Testing set Mean Abs Error: 1979.88 expenses\n",
            "You passed the challenge. Great job!\n"
          ],
          "name": "stdout"
        },
        {
          "output_type": "display_data",
          "data": {
            "image/png": "[encoded data removed]",
            "text/plain": [
              "<Figure size 432x288 with 1 Axes>"
            ]
          },
          "metadata": {
            "tags": [],
            "needs_background": "light"
          }
        }
      ]
    }
  ]
}